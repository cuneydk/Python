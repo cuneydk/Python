{
 "cells": [
  {
   "cell_type": "markdown",
   "id": "cfeee2a9-dffa-45bd-ac76-08ff2db3a1a6",
   "metadata": {},
   "source": [
    "# PERMÜTASYON"
   ]
  },
  {
   "cell_type": "markdown",
   "id": "0b4d2fd7-186c-47bf-a518-584deb73a72b",
   "metadata": {},
   "source": [
    "## Problem"
   ]
  },
  {
   "cell_type": "markdown",
   "id": "f6a599e8-cab6-46ea-8648-3466948d21bf",
   "metadata": {},
   "source": [
    "Kullanıcı tarafından girilen ve benzersiz harflerden oluşan bir String ifadesinin **harfleri birer kez** kullanılarak;\n",
    "Anlamlı ya da anlamsız kelimeler **1'den başlayarak** ardışık numaralandırılmış kartlara **alfabetik** olarak yazılacaktır.\n",
    "\n",
    "Buna göre kullanıcının verdiği String ifade **kaç numaralı kartta** yazılacaktır **?**\n",
    "\n",
    "**Örnek:** Kullanıcı **ELİF** ifadesini girmiş olsun.\n",
    "\n",
    "_1.Numaralı Kart: EFİL_,\n",
    "_2.Numaralı Kart: EFLİ_,\n",
    "_3.Numaralı Kart: EİFL_,\n",
    "_4.Numaralı Kart: EİLF_,\n",
    "_5.Numaralı Kart: ELFİ_,\n",
    "**_6.Numaralı Kart: ELİF_**."
   ]
  },
  {
   "cell_type": "markdown",
   "id": "9395782c-cb51-4ad4-8e99-7dba05b13032",
   "metadata": {},
   "source": [
    "## Kodlar"
   ]
  },
  {
   "cell_type": "code",
   "execution_count": 32,
   "id": "f5b1c7e4-82b2-4801-8de9-78825d966b96",
   "metadata": {
    "tags": []
   },
   "outputs": [],
   "source": [
    "input_string = \"CUNEYD\" #global\n",
    "sirali_string = \"\""
   ]
  },
  {
   "cell_type": "code",
   "execution_count": 33,
   "id": "933bc1c0-b00d-4c1b-b060-6622e38b95ae",
   "metadata": {
    "tags": []
   },
   "outputs": [],
   "source": [
    "# String'i alfabetik olarak sıralayan fonksiyon\n",
    "\n",
    "def sirala():\n",
    "    sirali_string = sorted(input_string)\n",
    "    \n",
    "    for char in sirali_string:\n",
    "        print(char, end=\" \")\n",
    "        \n",
    "    return sirali_string"
   ]
  },
  {
   "cell_type": "code",
   "execution_count": 34,
   "id": "bce5d92f-8698-4314-8b39-ade39f32aa60",
   "metadata": {
    "tags": []
   },
   "outputs": [],
   "source": [
    "#  Faktöriyel hesaplama fonksiyonu\n",
    "def faktoriyel(n):\n",
    "    if n == 0:\n",
    "        return 1\n",
    "    else:\n",
    "        return n * faktoriyel(n-1)"
   ]
  },
  {
   "cell_type": "code",
   "execution_count": 36,
   "id": "77677918-e93b-4c79-b14f-cc28e89ff9a8",
   "metadata": {
    "tags": []
   },
   "outputs": [],
   "source": [
    "# Fonksiyona gönderilen string içinde yine fonksiyona gönderilen karakteri arayarak indeksini döndürme\n",
    "def index_bul(sirali_string, aranan_karakter):\n",
    "    try:\n",
    "        index = sirali_string.index(aranan_karakter)\n",
    "        return index\n",
    "    except ValueError:\n",
    "        return -1"
   ]
  },
  {
   "cell_type": "code",
   "execution_count": 37,
   "id": "a92a7dce-d060-4070-8023-811e6d699604",
   "metadata": {
    "tags": []
   },
   "outputs": [
    {
     "name": "stdout",
     "output_type": "stream",
     "text": [
      "C D E N U Y "
     ]
    }
   ],
   "source": [
    "karakter_sayisi = len(input_string)\n",
    "sirali_string = sirala()"
   ]
  },
  {
   "cell_type": "code",
   "execution_count": 38,
   "id": "dca89f06-4a25-4b41-a4a3-89b67da26315",
   "metadata": {
    "tags": []
   },
   "outputs": [
    {
     "name": "stdout",
     "output_type": "stream",
     "text": [
      "CUNEYD IFADESI 88. KARTTA YAZILACAKTIR.. \n",
      "\n"
     ]
    }
   ],
   "source": [
    "toplam = 0\n",
    "\n",
    "# En dışta tek tek karakterleri dönecek olan döngü\n",
    "for i in range (0, karakter_sayisi):\n",
    "    #Girilen string'in siradaki karakterinin sirali listedeki indeksi\n",
    "    index = index_bul(sirali_string, input_string[i]) \n",
    "\n",
    "    if index > 0:\n",
    "        # ilgili indexteki karakterin kendinden önce gelen karakterlerinin kaç farklı sıralama ile olabileceği\n",
    "        toplam = toplam + (index * faktoriyel(karakter_sayisi - 1))\n",
    "        karakter_sayisi = karakter_sayisi - 1 \n",
    "    \n",
    "    else:\n",
    "        toplam +=0\n",
    "        karakter_sayisi = karakter_sayisi - 1 \n",
    "    \n",
    "    sirali_string.remove(input_string[i]) #kullanılan karakter çıkarılarak liste yenilenir\n",
    "\n",
    "        \n",
    "print (f\"{input_string} IFADESI {toplam+1}. KARTTA YAZILACAKTIR.. \\n\")"
   ]
  },
  {
   "cell_type": "markdown",
   "id": "79e2bed7-958c-428a-b606-ff474227bf0f",
   "metadata": {},
   "source": [
    "**_Problemde benzersiz harflerden oluştuğu söylendiğinden aşağıdaki fonksiyona gerek kalmamıştır._**"
   ]
  },
  {
   "cell_type": "code",
   "execution_count": null,
   "id": "9206442b-8e7c-41eb-8e8e-916b7a438d5c",
   "metadata": {},
   "outputs": [],
   "source": [
    "def benzersiz_karakter_sayisi(s):\n",
    "    # Karakter sayısını tutacak değişken\n",
    "    karakter_sayisi = 0\n",
    "    \n",
    "    # Önceki karakter değişkeni, başlangıçta None olarak ayarlanır\n",
    "    onceki_karakter = None\n",
    "    \n",
    "    # Her karakteri kontrol et\n",
    "    for karakter in s:\n",
    "        # Eğer önceki karakter bu karaktere eşit değilse, bu karakteri dikkate al\n",
    "        if karakter != onceki_karakter:\n",
    "            karakter_sayisi += 1\n",
    "            onceki_karakter = karakter\n",
    "    return karakter_sayisi"
   ]
  }
 ],
 "metadata": {
  "kernelspec": {
   "display_name": "Python 3 (ipykernel)",
   "language": "python",
   "name": "python3"
  },
  "language_info": {
   "codemirror_mode": {
    "name": "ipython",
    "version": 3
   },
   "file_extension": ".py",
   "mimetype": "text/x-python",
   "name": "python",
   "nbconvert_exporter": "python",
   "pygments_lexer": "ipython3",
   "version": "3.11.5"
  }
 },
 "nbformat": 4,
 "nbformat_minor": 5
}
