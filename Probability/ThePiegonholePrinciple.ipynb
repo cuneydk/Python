{
 "cells": [
  {
   "cell_type": "markdown",
   "id": "477f8bd3-9849-4bb0-a82f-19526e7eaa31",
   "metadata": {},
   "source": [
    "# The Piegonhole Principle"
   ]
  },
  {
   "cell_type": "markdown",
   "id": "bc9929ad-6f54-4022-8775-a2f6e327eedd",
   "metadata": {},
   "source": [
    "## Problem\n",
    "Elektronik cihaz üretilen bir fabrikada;\n",
    "\n",
    "Her ürünün **1 harf ve 3 rakamdan** oluşan bir model kodu bulunmaktadır. Üretilen cihazlardan **en az 3 adet** cihazın aynı kodlara sahip olmasını **garanti** edebilmek için; **en az kaç adet cihaz üretilmiş olmalıdır**?\n",
    "\n",
    "_Model kodları **harf ile başlamakta** ve alfabedeki **6** harf kullanılmaktadır. (A, B, C, X, Y, Z)_"
   ]
  },
  {
   "cell_type": "markdown",
   "id": "80001f85-9df5-4c45-8855-fb4de15fa534",
   "metadata": {
    "tags": []
   },
   "source": [
    "## Yaklaşım\n",
    "\n",
    "Güvercin Yuvası İlkesi yaklaşımıyla **(Güvercin Sayısı > Yuva Sayısı)**;\n",
    "\n",
    "**Yuva Sayısı** için : 6 x 10 x 10 x 10 = **6.000** (Harf x Rakam x Rakam x Rakam) _Örn: D322, M095_\n",
    "\n",
    "En az **3 cihazın aynı model koduna** sahip olmasını **garanti edebilmek için**; 6.000 + 6.000 + 1 adet cihaz üretilmelidir.\n",
    "\n",
    "**Güvercin Sayısı**: 12.001"
   ]
  },
  {
   "cell_type": "code",
   "execution_count": 134,
   "id": "fc70d022-bf97-4d20-a77e-7768b187124c",
   "metadata": {
    "tags": []
   },
   "outputs": [],
   "source": [
    "def en_az_guvercin_sayisi(harf_sayisi, rakam_sayisi, garanti_edilen):\n",
    "    toplam_uretim = 0\n",
    "    \n",
    "    for i in range(1, garanti_edilen):\n",
    "        kombinasyon = harf_sayisi * rakam_sayisi * rakam_sayisi * rakam_sayisi\n",
    "        toplam_uretim += kombinasyon\n",
    "    return toplam_uretim +1\n",
    "\n",
    "harf_sayisi = 6  # harf sayısı\n",
    "rakam_sayisi = 10  # rakamların sayısı (0..9)\n",
    "garanti_edilen = 3 # garanti altına alınacak değer"
   ]
  },
  {
   "cell_type": "code",
   "execution_count": 135,
   "id": "5171f680-6512-467a-a697-72a40071d086",
   "metadata": {
    "tags": []
   },
   "outputs": [
    {
     "name": "stdout",
     "output_type": "stream",
     "text": [
      "En az üç tanesi aynı olan ürün kodu üretmeyi garanti etmek için gereken toplam üretim: 12001\n"
     ]
    }
   ],
   "source": [
    "import random\n",
    "\n",
    "harf_paleti = { \n",
    "    \"harfler\": [\"A\", \"B\", \"C\", \"X\", \"Y\", \"Z\"],\n",
    "    }\n",
    "\n",
    "kod_list = []  # Boş bir liste oluştur\n",
    "guvercin_sayisi = en_az_guvercin_sayisi(harf_sayisi, rakam_sayisi, garanti_edilen)\n",
    "print(\"En az üç tanesi aynı olan ürün kodu üretmeyi garanti etmek için gereken toplam üretim:\", guvercin_sayisi)"
   ]
  },
  {
   "cell_type": "code",
   "execution_count": 136,
   "id": "1f65dca2-166b-4e87-875a-62c2ca56a848",
   "metadata": {
    "tags": []
   },
   "outputs": [],
   "source": [
    "# Cihazlara rastgele model no üretilmesi\n",
    "\n",
    "def kod_olustur():\n",
    "    rastgele_harf = random.choice(harf_paleti[\"harfler\"])\n",
    "    rastgele_sayi = random.randint(0, 999)\n",
    "    guvercin_kod = f\"{rastgele_harf}{rastgele_sayi:03}\"\n",
    "    return guvercin_kod"
   ]
  },
  {
   "cell_type": "code",
   "execution_count": 137,
   "id": "0b8e4320-55bd-4632-a09b-cb86905f3b49",
   "metadata": {
    "tags": []
   },
   "outputs": [],
   "source": [
    "## Yuva Sayisi < Güvercin Sayısı\n",
    "\n",
    "while len(kod_list) < guvercin_sayisi:\n",
    "    kod_list.append(kod_olustur())"
   ]
  },
  {
   "cell_type": "code",
   "execution_count": null,
   "id": "317f5efe-41f7-40e1-a52b-f7e4bc02205d",
   "metadata": {
    "collapsed": true,
    "jupyter": {
     "outputs_hidden": true
    },
    "tags": []
   },
   "outputs": [],
   "source": [
    "# Rastgele Üretilen 4 Haneli Kodlardan Tekrar Edenleri Listeleyen Satırlar\n",
    "\n",
    "ayni_kodlar = []\n",
    "tekrar_sayisi = {}\n",
    "\n",
    "for kod in kod_list:\n",
    "    if kod_list.count(kod) > 1 and kod not in ayni_kodlar:\n",
    "        ayni_kodlar.append(kod)\n",
    "        tekrar_sayisi[kod] = kod_list.count(kod)\n",
    "\n",
    "print(\"Aynı Kodlar:\")\n",
    "for ayni_kod in ayni_kodlar:\n",
    "    print(f\"{ayni_kod}: {tekrar_sayisi[ayni_kod]}\")"
   ]
  },
  {
   "cell_type": "code",
   "execution_count": null,
   "id": "43147a31-0032-4114-b17e-b6006b92f147",
   "metadata": {
    "collapsed": true,
    "jupyter": {
     "outputs_hidden": true
    },
    "tags": []
   },
   "outputs": [],
   "source": [
    "# Rastgele üretilen 4 haneli kodların tamamı ve tekrar sayıları \n",
    "\n",
    "from collections import Counter\n",
    "import string\n",
    "\n",
    "eleman_sayisi = Counter(kod_list)\n",
    "ayni_kodlar = sorted(eleman_sayisi.items(), key=lambda x: x[1], reverse=True)\n",
    "\n",
    "print(\"Üretilen Tüm Kodlar:\")\n",
    "for eleman, sayi in ayni_elemanlar:\n",
    "    print(f\"{eleman}: {sayi}\")"
   ]
  }
 ],
 "metadata": {
  "kernelspec": {
   "display_name": "Python 3 (ipykernel)",
   "language": "python",
   "name": "python3"
  },
  "language_info": {
   "codemirror_mode": {
    "name": "ipython",
    "version": 3
   },
   "file_extension": ".py",
   "mimetype": "text/x-python",
   "name": "python",
   "nbconvert_exporter": "python",
   "pygments_lexer": "ipython3",
   "version": "3.11.5"
  }
 },
 "nbformat": 4,
 "nbformat_minor": 5
}
