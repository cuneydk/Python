{
 "cells": [
  {
   "cell_type": "markdown",
   "id": "8393ca87-cb76-4e0f-99a5-78db8800241b",
   "metadata": {},
   "source": [
    "## Problem:"
   ]
  },
  {
   "cell_type": "markdown",
   "id": "31a1632c-a7a3-4349-b7e4-0d7700ce7f27",
   "metadata": {
    "tags": []
   },
   "source": [
    "Bir bankanın kredi kartı müşterileri arasında, 10,000 kişinin kredi kartı bulunmaktadır. Bu kişilerden %1'inin (yani 100 kişinin) kredi kartı sahtekarlık için kullanılmıştır. Banka, bir makine öğrenimi algoritması kullanarak sahtekarlığı tespit etmeye çalışmaktadır. Algoritmanın doğruluk oranı şu şekildedir:\n",
    "\n",
    "- (doğru pozitif) Gerçekten sahtekarlık olan bir işlemi doğru tespit etme olasılığı: %95\n",
    "- (yanlış pozitif) Gerçekten sahtekarlık olmayan bir işlemi yanlış pozitif olarak tespit etme olasılığı: %5\n",
    "\n",
    "Banka algoritma tarafından sahtekarlık olarak işaretlenen bir işlemi inceliyor. Bu işlemin gerçekten sahtekarlık olma olasılığı nedir?"
   ]
  },
  {
   "cell_type": "markdown",
   "id": "89b45273-c886-40dd-be18-5c872239dd50",
   "metadata": {},
   "source": [
    "## Yaklaşım"
   ]
  },
  {
   "cell_type": "markdown",
   "id": "278e431e-f304-43e0-998e-75a8b5443ec3",
   "metadata": {
    "tags": []
   },
   "source": [
    "Toplam müşteri sayısı: 10,000\n",
    "Sahtekarlık olan müşteri sayısı: 100 (10,000 x 0.01)\n",
    "Sahtekarlık olmayan müşteri sayısı: 9,900 (10,000 - 100)\n",
    "\n",
    "Adım 1: Algoritmanın performansını kullanarak olasılıkları:\n",
    "- Gerçekten sahtekarlık olan bir işlemi doğru tespit etme (doğru pozitif): 95 kişi (100 x 0,95)\n",
    "- Gerçekten sahtekarlık olmayan bir işlemi yanlış pozitif olarak tespit etme: 495 kişi (9.900 x 0,05)\n",
    "\n",
    "Adım 2: Toplam pozitif olarak tespit edilen işlem sayısı:\n",
    "- Toplam pozitif olarak tespit edilen işlemler: 95 (doğru pozitif) + 495 (yanlış pozitif) = 590\n",
    "\n",
    "Adım 3: \n",
    "- P(Sahtekarlık | Pozitif Tespit) = P(Pozitif Tespit ∣ Sahtekarlık) × P(Sahtekarlık) / P(Pozitif Tespit)\n",
    "\n",
    " \n",
    "Burada:\n",
    "\n",
    "- P(Pozitif Tespit ∣ Sahtekarlık) = 95/100 = 0,95\n",
    "- P(Sahtekarlık)                  = 100 / 10.000 = 0,01\n",
    "- P(Pozitif Tespit)               = 590 / 10.000 = 0,059\n",
    "\n",
    "- P(Sahtekarlık | Pozitif Tespit) = 0,95 x 0,01 / 0,059 ≈ 0,161 \n",
    "\n",
    "Bu, bankanın algoritma tarafından sahtekarlık olarak işaretlenen bir işlemin gerçekten sahtekarlık olma olasılığının yaklaşık %16.1 olduğunu gösterir."
   ]
  },
  {
   "cell_type": "markdown",
   "id": "b8645a6f-fde7-488f-b546-2bbb1d93f2bc",
   "metadata": {},
   "source": [
    "## Python Kodu"
   ]
  },
  {
   "cell_type": "code",
   "execution_count": 5,
   "id": "83f6d0b1-3945-49b6-b8a2-2fae24d7bb0d",
   "metadata": {
    "tags": []
   },
   "outputs": [
    {
     "name": "stdout",
     "output_type": "stream",
     "text": [
      "Algoritmanın sahtekarlık olarak işaretlediği bir işlemin gerçekten sahtekarlık olma olasılığı: 0.1610\n"
     ]
    }
   ],
   "source": [
    "# Toplam müşteri sayısı\n",
    "toplam_musteri = 10000\n",
    "\n",
    "# Sahtekarlık ve sahtekarlık olmayan müşteri sayıları\n",
    "sahtekarlik = 100\n",
    "sahtekarlik_olmayan = toplam_musteri - sahtekarlik\n",
    "\n",
    "# Algoritmanın doğruluk oranları\n",
    "dogru_pozitif_orani = 0.95\n",
    "yanlis_pozitif_orani = 0.05\n",
    "\n",
    "# Gerçekten sahtekarlık olan işlemleri doğru tespit etme sayısı\n",
    "dogru_pozitif = sahtekarlik * dogru_pozitif_orani\n",
    "\n",
    "# Gerçekten sahtekarlık olmayan işlemleri yanlış pozitif olarak tespit etme sayısı\n",
    "yanlis_pozitif = sahtekarlik_olmayan * yanlis_pozitif_orani\n",
    "\n",
    "# Toplam pozitif olarak tespit edilen işlemler\n",
    "toplam_pozitif = dogru_pozitif + yanlis_pozitif\n",
    "\n",
    "# Koşullu olasılık\n",
    "olasılık_sahtekarlık = dogru_pozitif / toplam_pozitif\n",
    "\n",
    "print(f\"Algoritmanın sahtekarlık olarak işaretlediği bir işlemin gerçekten sahtekarlık olma olasılığı: {olasılık_sahtekarlık:.4f}\")"
   ]
  },
  {
   "cell_type": "code",
   "execution_count": null,
   "id": "b6899168-a6fc-4756-b1ef-1297abd140cb",
   "metadata": {},
   "outputs": [],
   "source": []
  }
 ],
 "metadata": {
  "kernelspec": {
   "display_name": "Python 3 (ipykernel)",
   "language": "python",
   "name": "python3"
  },
  "language_info": {
   "codemirror_mode": {
    "name": "ipython",
    "version": 3
   },
   "file_extension": ".py",
   "mimetype": "text/x-python",
   "name": "python",
   "nbconvert_exporter": "python",
   "pygments_lexer": "ipython3",
   "version": "3.11.5"
  }
 },
 "nbformat": 4,
 "nbformat_minor": 5
}
