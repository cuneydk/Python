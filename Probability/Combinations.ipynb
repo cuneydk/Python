{
 "cells": [
  {
   "cell_type": "markdown",
   "id": "3277843c-72be-4b9c-9e03-80461e124e82",
   "metadata": {},
   "source": [
    "# Kombinasyon"
   ]
  },
  {
   "cell_type": "markdown",
   "id": "27ae11e7-4603-4872-b184-f8676d70644b",
   "metadata": {},
   "source": [
    "## Problem\n",
    "\n",
    "**7 tanesi doğrusal** olmak üzere **toplam 17** nokta ile **en çok** kaç farklı **üçgen** çizilebilir?"
   ]
  },
  {
   "cell_type": "markdown",
   "id": "daff7043-6547-462e-ac7c-33f8c7afe78b",
   "metadata": {
    "tags": []
   },
   "source": [
    "## Çözüm\n",
    "\n",
    "Toplam 17 nokta üzerinde herhangi 3 nokta ile bir üçgen çizilebiliriz: **C(17 | 3)** \n",
    "Ancak bu noktaların 7 tanesi doğrusal olarak belirtilmiştir. Doğrusal noktalar kendi aralarında üçgen oluşturamayacağından **C(7 | 3)** hesabı ile doğrusal noktalar üzerindeki üçer noktaların kombinasyonu hesaplanır.\n",
    "\n",
    "Son olarak; **C(17 | 3) - **C(7 | 3)** hesabı ile çizilebilek en fazla üçgen sayısı elde edilir."
   ]
  },
  {
   "cell_type": "code",
   "execution_count": 35,
   "id": "db8632eb-0d48-4178-bb78-cf791c0a7fb7",
   "metadata": {
    "tags": []
   },
   "outputs": [
    {
     "name": "stdout",
     "output_type": "stream",
     "text": [
      "Farklı çizilebilecek en fazla üçgen sayısı: 645\n"
     ]
    }
   ],
   "source": [
    "def kombinasyon(n, k):\n",
    "    if k < 0 or k > n:\n",
    "        return 0\n",
    "    sonuc = 1\n",
    "    for i in range(min(k, n - k)):\n",
    "        sonuc *= (n - i)\n",
    "        sonuc //= (i + 1)\n",
    "    return sonuc\n",
    "\n",
    "# 17 noktadan 3 tanesini seçerek bir üçgen oluşturma kombinasyonu\n",
    "ucgen_kombinasyonu = kombinasyon(17, 3)\n",
    "\n",
    "# Doğrusal noktalar üzerinden herhangi üçünü seçme kombinasyon sayısı\n",
    "dogrusal_noktalarin_kombinasyonu = kombinasyon(7, 3)\n",
    "\n",
    "# En çok çizilebilecek farklı üçgen sayısı\n",
    "en_cok_ucgen = ucgen_kombinasyonu - dogrusal_noktalarin_kombinasyonu\n",
    "\n",
    "print(\"Farklı çizilebilecek en fazla üçgen sayısı:\", en_cok_ucgen)\n"
   ]
  },
  {
   "cell_type": "code",
   "execution_count": null,
   "id": "d7473e04-19bd-4bbf-a2a1-6c80c64c15c1",
   "metadata": {},
   "outputs": [],
   "source": []
  }
 ],
 "metadata": {
  "kernelspec": {
   "display_name": "Python 3 (ipykernel)",
   "language": "python",
   "name": "python3"
  },
  "language_info": {
   "codemirror_mode": {
    "name": "ipython",
    "version": 3
   },
   "file_extension": ".py",
   "mimetype": "text/x-python",
   "name": "python",
   "nbconvert_exporter": "python",
   "pygments_lexer": "ipython3",
   "version": "3.11.5"
  }
 },
 "nbformat": 4,
 "nbformat_minor": 5
}
